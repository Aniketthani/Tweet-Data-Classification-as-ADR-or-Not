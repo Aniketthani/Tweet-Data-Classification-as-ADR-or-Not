{
 "cells": [
  {
   "cell_type": "markdown",
   "id": "1d4a8463",
   "metadata": {},
   "source": [
    "# Importing Libraries and Data"
   ]
  },
  {
   "cell_type": "code",
   "execution_count": 1,
   "id": "e983afe1",
   "metadata": {
    "scrolled": true
   },
   "outputs": [],
   "source": [
    "import numpy as np\n",
    "import pandas as pd\n",
    "import matplotlib.pyplot as plt\n",
    "import seaborn as sns\n",
    "df1=pd.read_table(\"data/training_set_1.tsv\",header=None,names=[\"TweetId\",\"UserId\",\"Category\",\"Tweet\"])\n",
    "df2=pd.read_table(\"data/training_set_2.tsv\",header=None,names=[\"TweetId\",\"UserId\",\"Category\",\"Tweet\"])\n",
    "df3=pd.read_table(\"data/training_set_3.tsv\",header=None,names=[\"TweetId\",\"UserId\",\"Category\",\"Tweet\"])\n",
    "# Have a grasp of how our data looks"
   ]
  },
  {
   "cell_type": "code",
   "execution_count": 2,
   "id": "455027b1",
   "metadata": {},
   "outputs": [],
   "source": [
    "df=pd.concat([df1,df2,df3])"
   ]
  },
  {
   "cell_type": "code",
   "execution_count": 3,
   "id": "8be3a0f1",
   "metadata": {},
   "outputs": [
    {
     "data": {
      "text/html": [
       "<div>\n",
       "<style scoped>\n",
       "    .dataframe tbody tr th:only-of-type {\n",
       "        vertical-align: middle;\n",
       "    }\n",
       "\n",
       "    .dataframe tbody tr th {\n",
       "        vertical-align: top;\n",
       "    }\n",
       "\n",
       "    .dataframe thead th {\n",
       "        text-align: right;\n",
       "    }\n",
       "</style>\n",
       "<table border=\"1\" class=\"dataframe\">\n",
       "  <thead>\n",
       "    <tr style=\"text-align: right;\">\n",
       "      <th></th>\n",
       "      <th>TweetId</th>\n",
       "      <th>UserId</th>\n",
       "      <th>Category</th>\n",
       "      <th>Tweet</th>\n",
       "    </tr>\n",
       "  </thead>\n",
       "  <tbody>\n",
       "    <tr>\n",
       "      <th>0</th>\n",
       "      <td>343909778008973312</td>\n",
       "      <td>464336224</td>\n",
       "      <td>0</td>\n",
       "      <td>i don't fucking need humira</td>\n",
       "    </tr>\n",
       "    <tr>\n",
       "      <th>1</th>\n",
       "      <td>352823276889837570</td>\n",
       "      <td>590337731</td>\n",
       "      <td>0</td>\n",
       "      <td>my retake is next friday, if i bloody fail aga...</td>\n",
       "    </tr>\n",
       "    <tr>\n",
       "      <th>2</th>\n",
       "      <td>339867818843594756</td>\n",
       "      <td>246979971</td>\n",
       "      <td>0</td>\n",
       "      <td>@doctorchristian scared to start fluoxetine, w...</td>\n",
       "    </tr>\n",
       "    <tr>\n",
       "      <th>3</th>\n",
       "      <td>349294537367236611</td>\n",
       "      <td>149749939</td>\n",
       "      <td>0</td>\n",
       "      <td>@intuitivegal1 ok, if you stopped taking the l...</td>\n",
       "    </tr>\n",
       "    <tr>\n",
       "      <th>4</th>\n",
       "      <td>354256195432882177</td>\n",
       "      <td>54516759</td>\n",
       "      <td>0</td>\n",
       "      <td>novartis announces secukinumab (ain457) demons...</td>\n",
       "    </tr>\n",
       "    <tr>\n",
       "      <th>...</th>\n",
       "      <td>...</td>\n",
       "      <td>...</td>\n",
       "      <td>...</td>\n",
       "      <td>...</td>\n",
       "    </tr>\n",
       "    <tr>\n",
       "      <th>9956</th>\n",
       "      <td>469009954251481088</td>\n",
       "      <td>23177032</td>\n",
       "      <td>1</td>\n",
       "      <td>@hornetweb my mri scan shows when it happens b...</td>\n",
       "    </tr>\n",
       "    <tr>\n",
       "      <th>9957</th>\n",
       "      <td>468518427125358592</td>\n",
       "      <td>1961096371</td>\n",
       "      <td>1</td>\n",
       "      <td>remember 2003. vioxx costs $65m to ontario dru...</td>\n",
       "    </tr>\n",
       "    <tr>\n",
       "      <th>9958</th>\n",
       "      <td>512254891361075200</td>\n",
       "      <td>321391071</td>\n",
       "      <td>1</td>\n",
       "      <td>asians are at higher risk for severe allergic ...</td>\n",
       "    </tr>\n",
       "    <tr>\n",
       "      <th>9959</th>\n",
       "      <td>491775200610893825</td>\n",
       "      <td>2484689840</td>\n",
       "      <td>1</td>\n",
       "      <td>5. so what caused the #estrogen surges in #nuv...</td>\n",
       "    </tr>\n",
       "    <tr>\n",
       "      <th>9960</th>\n",
       "      <td>535492308817682432</td>\n",
       "      <td>330650218</td>\n",
       "      <td>1</td>\n",
       "      <td>@twittalesskels 😂😂😂😂 i'm high off this tamiflu...</td>\n",
       "    </tr>\n",
       "  </tbody>\n",
       "</table>\n",
       "<p>25678 rows × 4 columns</p>\n",
       "</div>"
      ],
      "text/plain": [
       "                 TweetId      UserId  Category  \\\n",
       "0     343909778008973312   464336224         0   \n",
       "1     352823276889837570   590337731         0   \n",
       "2     339867818843594756   246979971         0   \n",
       "3     349294537367236611   149749939         0   \n",
       "4     354256195432882177    54516759         0   \n",
       "...                  ...         ...       ...   \n",
       "9956  469009954251481088    23177032         1   \n",
       "9957  468518427125358592  1961096371         1   \n",
       "9958  512254891361075200   321391071         1   \n",
       "9959  491775200610893825  2484689840         1   \n",
       "9960  535492308817682432   330650218         1   \n",
       "\n",
       "                                                  Tweet  \n",
       "0                           i don't fucking need humira  \n",
       "1     my retake is next friday, if i bloody fail aga...  \n",
       "2     @doctorchristian scared to start fluoxetine, w...  \n",
       "3     @intuitivegal1 ok, if you stopped taking the l...  \n",
       "4     novartis announces secukinumab (ain457) demons...  \n",
       "...                                                 ...  \n",
       "9956  @hornetweb my mri scan shows when it happens b...  \n",
       "9957  remember 2003. vioxx costs $65m to ontario dru...  \n",
       "9958  asians are at higher risk for severe allergic ...  \n",
       "9959  5. so what caused the #estrogen surges in #nuv...  \n",
       "9960  @twittalesskels 😂😂😂😂 i'm high off this tamiflu...  \n",
       "\n",
       "[25678 rows x 4 columns]"
      ]
     },
     "execution_count": 3,
     "metadata": {},
     "output_type": "execute_result"
    }
   ],
   "source": [
    "df"
   ]
  },
  {
   "cell_type": "code",
   "execution_count": 4,
   "id": "03cd6911",
   "metadata": {},
   "outputs": [
    {
     "data": {
      "text/html": [
       "<div>\n",
       "<style scoped>\n",
       "    .dataframe tbody tr th:only-of-type {\n",
       "        vertical-align: middle;\n",
       "    }\n",
       "\n",
       "    .dataframe tbody tr th {\n",
       "        vertical-align: top;\n",
       "    }\n",
       "\n",
       "    .dataframe thead th {\n",
       "        text-align: right;\n",
       "    }\n",
       "</style>\n",
       "<table border=\"1\" class=\"dataframe\">\n",
       "  <thead>\n",
       "    <tr style=\"text-align: right;\">\n",
       "      <th></th>\n",
       "      <th>TweetId</th>\n",
       "      <th>UserId</th>\n",
       "      <th>Category</th>\n",
       "    </tr>\n",
       "  </thead>\n",
       "  <tbody>\n",
       "    <tr>\n",
       "      <th>count</th>\n",
       "      <td>2.567800e+04</td>\n",
       "      <td>2.567800e+04</td>\n",
       "      <td>25678.000000</td>\n",
       "    </tr>\n",
       "    <tr>\n",
       "      <th>mean</th>\n",
       "      <td>4.265865e+17</td>\n",
       "      <td>6.369069e+08</td>\n",
       "      <td>0.092570</td>\n",
       "    </tr>\n",
       "    <tr>\n",
       "      <th>std</th>\n",
       "      <td>8.105669e+16</td>\n",
       "      <td>7.407954e+08</td>\n",
       "      <td>0.289834</td>\n",
       "    </tr>\n",
       "    <tr>\n",
       "      <th>min</th>\n",
       "      <td>3.263768e+17</td>\n",
       "      <td>3.840000e+03</td>\n",
       "      <td>0.000000</td>\n",
       "    </tr>\n",
       "    <tr>\n",
       "      <th>25%</th>\n",
       "      <td>3.445923e+17</td>\n",
       "      <td>8.934996e+07</td>\n",
       "      <td>0.000000</td>\n",
       "    </tr>\n",
       "    <tr>\n",
       "      <th>50%</th>\n",
       "      <td>4.403102e+17</td>\n",
       "      <td>3.391593e+08</td>\n",
       "      <td>0.000000</td>\n",
       "    </tr>\n",
       "    <tr>\n",
       "      <th>75%</th>\n",
       "      <td>5.095497e+17</td>\n",
       "      <td>9.422311e+08</td>\n",
       "      <td>0.000000</td>\n",
       "    </tr>\n",
       "    <tr>\n",
       "      <th>max</th>\n",
       "      <td>6.790513e+17</td>\n",
       "      <td>4.513290e+09</td>\n",
       "      <td>1.000000</td>\n",
       "    </tr>\n",
       "  </tbody>\n",
       "</table>\n",
       "</div>"
      ],
      "text/plain": [
       "            TweetId        UserId      Category\n",
       "count  2.567800e+04  2.567800e+04  25678.000000\n",
       "mean   4.265865e+17  6.369069e+08      0.092570\n",
       "std    8.105669e+16  7.407954e+08      0.289834\n",
       "min    3.263768e+17  3.840000e+03      0.000000\n",
       "25%    3.445923e+17  8.934996e+07      0.000000\n",
       "50%    4.403102e+17  3.391593e+08      0.000000\n",
       "75%    5.095497e+17  9.422311e+08      0.000000\n",
       "max    6.790513e+17  4.513290e+09      1.000000"
      ]
     },
     "execution_count": 4,
     "metadata": {},
     "output_type": "execute_result"
    }
   ],
   "source": [
    "df.describe()"
   ]
  },
  {
   "cell_type": "code",
   "execution_count": 5,
   "id": "ee29c4ce",
   "metadata": {
    "scrolled": true
   },
   "outputs": [
    {
     "name": "stdout",
     "output_type": "stream",
     "text": [
      "<class 'pandas.core.frame.DataFrame'>\n",
      "Int64Index: 25678 entries, 0 to 9960\n",
      "Data columns (total 4 columns):\n",
      " #   Column    Non-Null Count  Dtype \n",
      "---  ------    --------------  ----- \n",
      " 0   TweetId   25678 non-null  int64 \n",
      " 1   UserId    25678 non-null  int64 \n",
      " 2   Category  25678 non-null  int64 \n",
      " 3   Tweet     25678 non-null  object\n",
      "dtypes: int64(3), object(1)\n",
      "memory usage: 1003.0+ KB\n"
     ]
    }
   ],
   "source": [
    "df.info()"
   ]
  },
  {
   "cell_type": "code",
   "execution_count": 6,
   "id": "cf7752ee",
   "metadata": {},
   "outputs": [
    {
     "data": {
      "text/plain": [
       "array([[<AxesSubplot:title={'center':'Category'}>]], dtype=object)"
      ]
     },
     "execution_count": 6,
     "metadata": {},
     "output_type": "execute_result"
    },
    {
     "data": {
      "image/png": "[encoded data removed]",
      "text/plain": [
       "<Figure size 432x288 with 1 Axes>"
      ]
     },
     "metadata": {
      "needs_background": "light"
     },
     "output_type": "display_data"
    }
   ],
   "source": [
    "df.hist(column=\"Category\")"
   ]
  },
  {
   "cell_type": "markdown",
   "id": "30c99df1",
   "metadata": {},
   "source": [
    "# Preparing the Data for Modeling"
   ]
  },
  {
   "cell_type": "code",
   "execution_count": 7,
   "id": "7b37e3eb",
   "metadata": {},
   "outputs": [],
   "source": [
    "# Importing the necessary modules\n",
    "from sklearn.feature_extraction.text import CountVectorizer\n",
    "from sklearn.model_selection import train_test_split"
   ]
  },
  {
   "cell_type": "code",
   "execution_count": 8,
   "id": "29d7b1c5",
   "metadata": {},
   "outputs": [],
   "source": [
    "# Seperating predictors from outcome label \n",
    "y = df['Category']\n",
    "X = df.drop(['Category'], axis =1)\n",
    "\n",
    "#Converting all Tweets to lower-case\n",
    "X['Tweet']=X['Tweet'].str.lower()\n",
    "\n",
    "# Create training and test sets\n",
    "X_train, X_test, y_train, y_test = train_test_split(\n",
    "                                             X, y, \n",
    "                                             test_size=0.25, \n",
    "                                             random_state=53)"
   ]
  },
  {
   "cell_type": "markdown",
   "id": "cd9f8f7d",
   "metadata": {},
   "source": [
    "# Feature Engineering"
   ]
  },
  {
   "cell_type": "markdown",
   "id": "ed1dd031",
   "metadata": {},
   "source": [
    "# Text - Preprocessing"
   ]
  },
  {
   "cell_type": "code",
   "execution_count": 9,
   "id": "5fe573ae",
   "metadata": {},
   "outputs": [],
   "source": [
    "import nltk\n",
    "#nltk.download('wordnet')"
   ]
  },
  {
   "cell_type": "code",
   "execution_count": 10,
   "id": "00fdbfec",
   "metadata": {},
   "outputs": [],
   "source": [
    "w_tokenizer = nltk.tokenize.WhitespaceTokenizer()\n",
    "lemmatizer = nltk.stem.WordNetLemmatizer()"
   ]
  },
  {
   "cell_type": "code",
   "execution_count": 11,
   "id": "68d68882",
   "metadata": {},
   "outputs": [],
   "source": [
    "# function to lemmatize each row of Tweet column\n",
    "def lemmatize_text(text):\n",
    "  return ' '.join(lemmatizer.lemmatize(w) for w in w_tokenizer.tokenize(text))"
   ]
  },
  {
   "cell_type": "code",
   "execution_count": 12,
   "id": "d8c333a4",
   "metadata": {},
   "outputs": [
    {
     "name": "stderr",
     "output_type": "stream",
     "text": [
      "c:\\users\\aniket thani\\appdata\\local\\programs\\python\\python39\\lib\\site-packages\\pandas\\core\\frame.py:3607: SettingWithCopyWarning: \n",
      "A value is trying to be set on a copy of a slice from a DataFrame.\n",
      "Try using .loc[row_indexer,col_indexer] = value instead\n",
      "\n",
      "See the caveats in the documentation: https://pandas.pydata.org/pandas-docs/stable/user_guide/indexing.html#returning-a-view-versus-a-copy\n",
      "  self._set_item(key, value)\n"
     ]
    },
    {
     "data": {
      "text/html": [
       "<div>\n",
       "<style scoped>\n",
       "    .dataframe tbody tr th:only-of-type {\n",
       "        vertical-align: middle;\n",
       "    }\n",
       "\n",
       "    .dataframe tbody tr th {\n",
       "        vertical-align: top;\n",
       "    }\n",
       "\n",
       "    .dataframe thead th {\n",
       "        text-align: right;\n",
       "    }\n",
       "</style>\n",
       "<table border=\"1\" class=\"dataframe\">\n",
       "  <thead>\n",
       "    <tr style=\"text-align: right;\">\n",
       "      <th></th>\n",
       "      <th>TweetId</th>\n",
       "      <th>UserId</th>\n",
       "      <th>Tweet</th>\n",
       "      <th>Tweet_l</th>\n",
       "    </tr>\n",
       "  </thead>\n",
       "  <tbody>\n",
       "    <tr>\n",
       "      <th>2325</th>\n",
       "      <td>451041133188362240</td>\n",
       "      <td>16889710</td>\n",
       "      <td>also i've lost 8 lbs in the past two weeks tha...</td>\n",
       "      <td>also i've lost 8 lb in the past two week thank...</td>\n",
       "    </tr>\n",
       "    <tr>\n",
       "      <th>8491</th>\n",
       "      <td>349333590917644292</td>\n",
       "      <td>31300901</td>\n",
       "      <td>rt @diatribenews: dr john buse: most impressiv...</td>\n",
       "      <td>rt @diatribenews: dr john buse: most impressiv...</td>\n",
       "    </tr>\n",
       "    <tr>\n",
       "      <th>8950</th>\n",
       "      <td>328778635861442560</td>\n",
       "      <td>494325849</td>\n",
       "      <td>i suppose the only concern is that the lamotri...</td>\n",
       "      <td>i suppose the only concern is that the lamotri...</td>\n",
       "    </tr>\n",
       "    <tr>\n",
       "      <th>2105</th>\n",
       "      <td>468263508178927616</td>\n",
       "      <td>347310208</td>\n",
       "      <td>stay far away from avelox and other fluoroquin...</td>\n",
       "      <td>stay far away from avelox and other fluoroquin...</td>\n",
       "    </tr>\n",
       "    <tr>\n",
       "      <th>9254</th>\n",
       "      <td>537547144131923969</td>\n",
       "      <td>98568468</td>\n",
       "      <td>\"@watermelonbabyy: ventolin be like... im your...</td>\n",
       "      <td>\"@watermelonbabyy: ventolin be like... im your...</td>\n",
       "    </tr>\n",
       "  </tbody>\n",
       "</table>\n",
       "</div>"
      ],
      "text/plain": [
       "                 TweetId     UserId  \\\n",
       "2325  451041133188362240   16889710   \n",
       "8491  349333590917644292   31300901   \n",
       "8950  328778635861442560  494325849   \n",
       "2105  468263508178927616  347310208   \n",
       "9254  537547144131923969   98568468   \n",
       "\n",
       "                                                  Tweet  \\\n",
       "2325  also i've lost 8 lbs in the past two weeks tha...   \n",
       "8491  rt @diatribenews: dr john buse: most impressiv...   \n",
       "8950  i suppose the only concern is that the lamotri...   \n",
       "2105  stay far away from avelox and other fluoroquin...   \n",
       "9254  \"@watermelonbabyy: ventolin be like... im your...   \n",
       "\n",
       "                                                Tweet_l  \n",
       "2325  also i've lost 8 lb in the past two week thank...  \n",
       "8491  rt @diatribenews: dr john buse: most impressiv...  \n",
       "8950  i suppose the only concern is that the lamotri...  \n",
       "2105  stay far away from avelox and other fluoroquin...  \n",
       "9254  \"@watermelonbabyy: ventolin be like... im your...  "
      ]
     },
     "execution_count": 12,
     "metadata": {},
     "output_type": "execute_result"
    }
   ],
   "source": [
    "X_train['Tweet_l'] = X_train.Tweet.apply(lemmatize_text)\n",
    "X_test['Tweet_l'] = X_test.Tweet.apply(lemmatize_text)\n",
    "X_train.head()"
   ]
  },
  {
   "cell_type": "code",
   "execution_count": 13,
   "id": "02389518",
   "metadata": {},
   "outputs": [],
   "source": [
    "cv=CountVectorizer(stop_words=\"english\",ngram_range=(1,2))"
   ]
  },
  {
   "cell_type": "code",
   "execution_count": 14,
   "id": "93745917",
   "metadata": {},
   "outputs": [],
   "source": [
    "count_train=cv.fit_transform(X_train.Tweet_l.values)"
   ]
  },
  {
   "cell_type": "code",
   "execution_count": 15,
   "id": "83429a26",
   "metadata": {},
   "outputs": [],
   "source": [
    "count_test=cv.transform(X_test.Tweet_l.values)"
   ]
  },
  {
   "cell_type": "code",
   "execution_count": 16,
   "id": "467ba326",
   "metadata": {},
   "outputs": [
    {
     "data": {
      "text/plain": [
       "['00',\n",
       " '00 01',\n",
       " '00 30',\n",
       " '00 day',\n",
       " '00 ecuador',\n",
       " '00 feeding',\n",
       " '00 income',\n",
       " '00 jst',\n",
       " '00 month',\n",
       " '00 monthly',\n",
       " '00 pain',\n",
       " '00 pill',\n",
       " '00 pm',\n",
       " '00 problem',\n",
       " '00 smith',\n",
       " '00 spain',\n",
       " '00 symbicort',\n",
       " '00 today',\n",
       " '00 went',\n",
       " '00 world']"
      ]
     },
     "execution_count": 16,
     "metadata": {},
     "output_type": "execute_result"
    }
   ],
   "source": [
    "cv.get_feature_names()[:20] #get first 20 features"
   ]
  },
  {
   "cell_type": "markdown",
   "id": "8a910c57",
   "metadata": {},
   "source": [
    "# TFIDF"
   ]
  },
  {
   "cell_type": "code",
   "execution_count": 17,
   "id": "d7a76b99",
   "metadata": {},
   "outputs": [],
   "source": [
    "from sklearn.feature_extraction.text import TfidfVectorizer"
   ]
  },
  {
   "cell_type": "code",
   "execution_count": 18,
   "id": "350b7498",
   "metadata": {},
   "outputs": [],
   "source": [
    "tfidf=TfidfVectorizer(stop_words=\"english\",max_df=0.7)"
   ]
  },
  {
   "cell_type": "code",
   "execution_count": 19,
   "id": "1eaf2a88",
   "metadata": {},
   "outputs": [],
   "source": [
    "tfidf_train=tfidf.fit_transform(X_train.Tweet_l.values)"
   ]
  },
  {
   "cell_type": "code",
   "execution_count": 20,
   "id": "e8ebad51",
   "metadata": {},
   "outputs": [],
   "source": [
    "tfidf_test=tfidf.transform(X_test.Tweet_l.values)"
   ]
  },
  {
   "cell_type": "code",
   "execution_count": 21,
   "id": "c2971726",
   "metadata": {},
   "outputs": [
    {
     "data": {
      "text/plain": [
       "['00',\n",
       " '000',\n",
       " '000mg',\n",
       " '0011',\n",
       " '005',\n",
       " '0067',\n",
       " '00pm',\n",
       " '01',\n",
       " '02',\n",
       " '0214',\n",
       " '025',\n",
       " '03',\n",
       " '03_pfe_',\n",
       " '04',\n",
       " '040ptrpluc',\n",
       " '0430',\n",
       " '0432utc',\n",
       " '045',\n",
       " '05',\n",
       " '0511']"
      ]
     },
     "execution_count": 21,
     "metadata": {},
     "output_type": "execute_result"
    }
   ],
   "source": [
    "tfidf.get_feature_names()[:20]"
   ]
  },
  {
   "cell_type": "markdown",
   "id": "ae5221b6",
   "metadata": {},
   "source": [
    "# Modeling - process: picking the correct class of Algorithm"
   ]
  },
  {
   "cell_type": "code",
   "execution_count": 22,
   "id": "109c47cd",
   "metadata": {},
   "outputs": [],
   "source": [
    "from sklearn.naive_bayes import MultinomialNB\n",
    "from sklearn.metrics import roc_auc_score"
   ]
  },
  {
   "cell_type": "code",
   "execution_count": 23,
   "id": "18f97089",
   "metadata": {},
   "outputs": [],
   "source": [
    "nb_clf=MultinomialNB()"
   ]
  },
  {
   "cell_type": "code",
   "execution_count": 24,
   "id": "20da7763",
   "metadata": {},
   "outputs": [
    {
     "name": "stdout",
     "output_type": "stream",
     "text": [
      "0.9098130841121496\n",
      "[[5810    6]\n",
      " [ 573   31]]\n"
     ]
    }
   ],
   "source": [
    "#using Count Train and Test\n",
    "\n",
    "nb_clf.fit(count_train,y_train)\n",
    "\n",
    "# Creating the predicted tags: pred\n",
    "preds=nb_clf.predict(count_test)\n",
    "\n",
    "# Calculating the accuracy score: score\n",
    "from sklearn.metrics import accuracy_score\n",
    "scores=accuracy_score(y_test,preds)\n",
    "\n",
    "print(scores)\n",
    "\n",
    "from sklearn.metrics import confusion_matrix\n",
    "cm=confusion_matrix(y_test,preds)\n",
    "print(cm)"
   ]
  },
  {
   "cell_type": "code",
   "execution_count": 25,
   "id": "8ea9c2ff",
   "metadata": {},
   "outputs": [
    {
     "name": "stdout",
     "output_type": "stream",
     "text": [
      "0.9059190031152647\n",
      "[[5816    0]\n",
      " [ 604    0]]\n"
     ]
    }
   ],
   "source": [
    "#using Tfidf Train and Test\n",
    "nb_clf2=MultinomialNB()\n",
    "nb_clf2.fit(tfidf_train,y_train)\n",
    "\n",
    "preds2=nb_clf2.predict(tfidf_test)\n",
    "\n",
    "scores2=accuracy_score(y_test,preds2)\n",
    "\n",
    "print(scores2)\n",
    "\n",
    "cm2=confusion_matrix(y_test,preds2)\n",
    "print(cm2)"
   ]
  },
  {
   "cell_type": "markdown",
   "id": "563ac04a",
   "metadata": {},
   "source": [
    "# Let's Try Logistic Regression Classifier on Count Vectors"
   ]
  },
  {
   "cell_type": "code",
   "execution_count": 26,
   "id": "477e3c6e",
   "metadata": {},
   "outputs": [
    {
     "name": "stdout",
     "output_type": "stream",
     "text": [
      "0.9179127725856698\n"
     ]
    }
   ],
   "source": [
    "from sklearn.linear_model import LogisticRegression\n",
    "lg_clf=LogisticRegression()\n",
    "lg_clf.fit(count_train,y_train)\n",
    "preds_c=lg_clf.predict(count_test)\n",
    "\n",
    "print(accuracy_score(y_test,preds_c))\n"
   ]
  },
  {
   "cell_type": "markdown",
   "id": "6aaf9c0c",
   "metadata": {},
   "source": [
    "# Using advanced Classification Algos for prediction and Comparing their Accuracy"
   ]
  },
  {
   "cell_type": "code",
   "execution_count": 27,
   "id": "aa4aea12",
   "metadata": {},
   "outputs": [],
   "source": [
    "from sklearn.preprocessing import StandardScaler, LabelEncoder\n",
    " \n",
    "from sklearn.linear_model import LogisticRegression\n",
    "from sklearn.svm import SVC\n",
    "from sklearn.neighbors import KNeighborsClassifier\n",
    "from sklearn import tree\n",
    "from sklearn.neural_network import MLPClassifier\n",
    "from sklearn.neighbors import KNeighborsClassifier\n",
    "from sklearn.ensemble import GradientBoostingClassifier\n",
    "from sklearn.gaussian_process.kernels import RBF\n",
    "from sklearn.ensemble import RandomForestClassifier\n",
    "from sklearn.naive_bayes import MultinomialNB\n",
    "\n",
    "\n",
    "dict_classifiers = {\n",
    "    \"Logistic Regression\": LogisticRegression(),\n",
    "    \"Nearest Neighbors\": KNeighborsClassifier(),\n",
    "    \"Linear SVM\": SVC(),\n",
    "    \"Gradient Boosting Classifier\": GradientBoostingClassifier(),\n",
    "    \"Decision Tree\": tree.DecisionTreeClassifier(),\n",
    "    \"Random Forest\": RandomForestClassifier(n_estimators=18),\n",
    "    'NB_Classifier':MultinomialNB()\n",
    "\n",
    "}"
   ]
  },
  {
   "cell_type": "code",
   "execution_count": 28,
   "id": "b9aa62d8",
   "metadata": {},
   "outputs": [],
   "source": [
    "# Use Cross-validation.\n",
    "from sklearn.model_selection import cross_val_score\n",
    "\n",
    "# Logistic Regression\n",
    "log_reg = LogisticRegression()\n",
    "log_scores = cross_val_score(log_reg, count_train, y_train, cv=3)\n",
    "log_reg_mean = log_scores.mean()\n",
    "\n",
    "# KNearestNeighbors\n",
    "knn_clf = KNeighborsClassifier()\n",
    "knn_scores = cross_val_score(knn_clf, count_train, y_train, cv=3)\n",
    "knn_mean = knn_scores.mean()\n",
    "\n",
    "# Decision Tree\n",
    "tree_clf = tree.DecisionTreeClassifier()\n",
    "tree_scores = cross_val_score(tree_clf, count_train, y_train, cv=3)\n",
    "tree_mean = tree_scores.mean()\n",
    "\n",
    "# Gradient Boosting Classifier\n",
    "grad_clf = GradientBoostingClassifier()\n",
    "grad_scores = cross_val_score(grad_clf, count_train, y_train, cv=3)\n",
    "grad_mean = grad_scores.mean()\n",
    "\n",
    "# Random Forest Classifier\n",
    "rand_clf = RandomForestClassifier(n_estimators=18)\n",
    "rand_scores = cross_val_score(rand_clf, count_train, y_train, cv=3)\n",
    "rand_mean = rand_scores.mean()\n",
    "\n",
    "\n",
    "# Naives Bayes\n",
    "nav_clf = MultinomialNB()\n",
    "nav_scores = cross_val_score(nav_clf, count_train, y_train, cv=3)\n",
    "nav_mean = nav_scores.mean()\n",
    "\n",
    "# Create a Dataframe with the results.\n",
    "d = {'Classifiers': ['Logistic Reg.', 'KNN', 'Dec Tree', 'Grad B CLF', 'Rand FC', 'Naives Bayes'], \n",
    "    'Crossval Mean Scores': [log_reg_mean, knn_mean, tree_mean, grad_mean, rand_mean, nav_mean]}\n",
    "\n",
    "result_df = pd.DataFrame(data=d)"
   ]
  },
  {
   "cell_type": "code",
   "execution_count": 29,
   "id": "9db0212a",
   "metadata": {},
   "outputs": [
    {
     "data": {
      "text/html": [
       "<div>\n",
       "<style scoped>\n",
       "    .dataframe tbody tr th:only-of-type {\n",
       "        vertical-align: middle;\n",
       "    }\n",
       "\n",
       "    .dataframe tbody tr th {\n",
       "        vertical-align: top;\n",
       "    }\n",
       "\n",
       "    .dataframe thead th {\n",
       "        text-align: right;\n",
       "    }\n",
       "</style>\n",
       "<table border=\"1\" class=\"dataframe\">\n",
       "  <thead>\n",
       "    <tr style=\"text-align: right;\">\n",
       "      <th></th>\n",
       "      <th>Classifiers</th>\n",
       "      <th>Crossval Mean Scores</th>\n",
       "    </tr>\n",
       "  </thead>\n",
       "  <tbody>\n",
       "    <tr>\n",
       "      <th>0</th>\n",
       "      <td>Logistic Reg.</td>\n",
       "      <td>0.918891</td>\n",
       "    </tr>\n",
       "    <tr>\n",
       "      <th>1</th>\n",
       "      <td>KNN</td>\n",
       "      <td>0.908194</td>\n",
       "    </tr>\n",
       "    <tr>\n",
       "      <th>2</th>\n",
       "      <td>Dec Tree</td>\n",
       "      <td>0.902482</td>\n",
       "    </tr>\n",
       "    <tr>\n",
       "      <th>3</th>\n",
       "      <td>Grad B CLF</td>\n",
       "      <td>0.912660</td>\n",
       "    </tr>\n",
       "    <tr>\n",
       "      <th>4</th>\n",
       "      <td>Rand FC</td>\n",
       "      <td>0.911725</td>\n",
       "    </tr>\n",
       "    <tr>\n",
       "      <th>5</th>\n",
       "      <td>Naives Bayes</td>\n",
       "      <td>0.880258</td>\n",
       "    </tr>\n",
       "  </tbody>\n",
       "</table>\n",
       "</div>"
      ],
      "text/plain": [
       "     Classifiers  Crossval Mean Scores\n",
       "0  Logistic Reg.              0.918891\n",
       "1            KNN              0.908194\n",
       "2       Dec Tree              0.902482\n",
       "3     Grad B CLF              0.912660\n",
       "4        Rand FC              0.911725\n",
       "5   Naives Bayes              0.880258"
      ]
     },
     "execution_count": 29,
     "metadata": {},
     "output_type": "execute_result"
    }
   ],
   "source": [
    "result_df"
   ]
  },
  {
   "cell_type": "markdown",
   "id": "5a922e3c",
   "metadata": {},
   "source": [
    "# As we can see Logistic Regression Clearly outperformed all other Class of Alogorithms, So we will proceed with Logistics Regression for our Final Model"
   ]
  },
  {
   "cell_type": "code",
   "execution_count": 30,
   "id": "899bc4f5",
   "metadata": {},
   "outputs": [],
   "source": [
    "log_clf=LogisticRegression()"
   ]
  },
  {
   "cell_type": "code",
   "execution_count": 31,
   "id": "91453f4a",
   "metadata": {},
   "outputs": [
    {
     "data": {
      "text/plain": [
       "LogisticRegression()"
      ]
     },
     "execution_count": 31,
     "metadata": {},
     "output_type": "execute_result"
    }
   ],
   "source": [
    "log_clf.fit(count_train,y_train)"
   ]
  },
  {
   "cell_type": "code",
   "execution_count": 32,
   "id": "ce18a3d6",
   "metadata": {},
   "outputs": [
    {
     "data": {
      "text/plain": [
       "0.9951708380932599"
      ]
     },
     "execution_count": 32,
     "metadata": {},
     "output_type": "execute_result"
    }
   ],
   "source": [
    "log_clf.score(count_train,y_train)"
   ]
  },
  {
   "cell_type": "code",
   "execution_count": 33,
   "id": "9c0f364d",
   "metadata": {},
   "outputs": [],
   "source": [
    "scores=cross_val_score(log_clf,count_train,y_train,cv=4)"
   ]
  },
  {
   "cell_type": "code",
   "execution_count": 34,
   "id": "90aca6d6",
   "metadata": {},
   "outputs": [
    {
     "data": {
      "text/plain": [
       "0.919098555571518"
      ]
     },
     "execution_count": 34,
     "metadata": {},
     "output_type": "execute_result"
    }
   ],
   "source": [
    "scores.mean()"
   ]
  },
  {
   "cell_type": "markdown",
   "id": "641ee333",
   "metadata": {},
   "source": [
    "# Tuning Hyperparameters using GridSearchCV"
   ]
  },
  {
   "cell_type": "code",
   "execution_count": 35,
   "id": "500a9667",
   "metadata": {},
   "outputs": [],
   "source": [
    "from sklearn.model_selection import GridSearchCV"
   ]
  },
  {
   "cell_type": "code",
   "execution_count": 36,
   "id": "fe4884e2",
   "metadata": {},
   "outputs": [],
   "source": [
    "params_set={\n",
    "    'penalty':['l1','l2','elasticnet'],\n",
    "    'C':[0.5,0.7,0.85,1,1.5,2,2.5,5,10],\n",
    "    'tol':[0.04,0.05,0.06],\n",
    "   'solver':['liblinear','warn']},\n",
    "    "
   ]
  },
  {
   "cell_type": "code",
   "execution_count": 37,
   "id": "40d09a86",
   "metadata": {},
   "outputs": [],
   "source": [
    "gsearch=GridSearchCV(log_clf,params_set,scoring=\"accuracy\",cv=3,n_jobs=-1)"
   ]
  },
  {
   "cell_type": "code",
   "execution_count": 38,
   "id": "c78f1e99",
   "metadata": {},
   "outputs": [
    {
     "name": "stderr",
     "output_type": "stream",
     "text": [
      "c:\\users\\aniket thani\\appdata\\local\\programs\\python\\python39\\lib\\site-packages\\sklearn\\model_selection\\_search.py:922: UserWarning: One or more of the test scores are non-finite: [0.91769645 0.91800798 0.91774835        nan        nan        nan\n",
      " 0.91764451 0.91764451 0.91764451        nan        nan        nan\n",
      "        nan        nan        nan        nan        nan        nan\n",
      " 0.91909842 0.91904651 0.91915037        nan        nan        nan\n",
      " 0.91878691 0.91878691 0.91878691        nan        nan        nan\n",
      "        nan        nan        nan        nan        nan        nan\n",
      " 0.91883879 0.91889078 0.91935808        nan        nan        nan\n",
      " 0.91852728 0.918735   0.9190985         nan        nan        nan\n",
      "        nan        nan        nan        nan        nan        nan\n",
      " 0.91899461 0.91909842 0.91909846        nan        nan        nan\n",
      " 0.91915042 0.91915042 0.91915042        nan        nan        nan\n",
      "        nan        nan        nan        nan        nan        nan\n",
      " 0.91790425 0.91821585 0.91816387        nan        nan        nan\n",
      " 0.91925423 0.91925423 0.91925423        nan        nan        nan\n",
      "        nan        nan        nan        nan        nan        nan\n",
      " 0.91831968 0.91790424 0.91826776        nan        nan        nan\n",
      " 0.91894267 0.91894267 0.91894267        nan        nan        nan\n",
      "        nan        nan        nan        nan        nan        nan\n",
      " 0.91837163 0.91857931 0.91873507        nan        nan        nan\n",
      " 0.91946194 0.91946194 0.91946194        nan        nan        nan\n",
      "        nan        nan        nan        nan        nan        nan\n",
      " 0.9182677  0.91904658 0.9186831         nan        nan        nan\n",
      " 0.91899457 0.91889072 0.91899458        nan        nan        nan\n",
      "        nan        nan        nan        nan        nan        nan\n",
      " 0.9177484  0.91790421 0.91717721        nan        nan        nan\n",
      " 0.91909843 0.91909843 0.91899457        nan        nan        nan\n",
      "        nan        nan        nan        nan        nan        nan]\n",
      "  warnings.warn(\n"
     ]
    },
    {
     "data": {
      "text/plain": [
       "GridSearchCV(cv=3, estimator=LogisticRegression(), n_jobs=-1,\n",
       "             param_grid=({'C': [0.5, 0.7, 0.85, 1, 1.5, 2, 2.5, 5, 10],\n",
       "                          'penalty': ['l1', 'l2', 'elasticnet'],\n",
       "                          'solver': ['liblinear', 'warn'],\n",
       "                          'tol': [0.04, 0.05, 0.06]},),\n",
       "             scoring='accuracy')"
      ]
     },
     "execution_count": 38,
     "metadata": {},
     "output_type": "execute_result"
    }
   ],
   "source": [
    "gsearch.fit(count_train,y_train)"
   ]
  },
  {
   "cell_type": "code",
   "execution_count": 39,
   "id": "84fdcfc1",
   "metadata": {},
   "outputs": [
    {
     "data": {
      "text/plain": [
       "0.9194619442507211"
      ]
     },
     "execution_count": 39,
     "metadata": {},
     "output_type": "execute_result"
    }
   ],
   "source": [
    "gsearch.best_score_"
   ]
  },
  {
   "cell_type": "code",
   "execution_count": 40,
   "id": "000b35d0",
   "metadata": {},
   "outputs": [
    {
     "data": {
      "text/plain": [
       "{'C': 2.5, 'penalty': 'l2', 'solver': 'liblinear', 'tol': 0.04}"
      ]
     },
     "execution_count": 40,
     "metadata": {},
     "output_type": "execute_result"
    }
   ],
   "source": [
    "gsearch.best_params_"
   ]
  },
  {
   "cell_type": "markdown",
   "id": "24520548",
   "metadata": {},
   "source": [
    "# Building our final model using Parameters returned by GridSearchCV"
   ]
  },
  {
   "cell_type": "code",
   "execution_count": 41,
   "id": "62772649",
   "metadata": {},
   "outputs": [],
   "source": [
    "log_clf=LogisticRegression(**gsearch.best_params_,random_state=5)"
   ]
  },
  {
   "cell_type": "code",
   "execution_count": 42,
   "id": "f37042d5",
   "metadata": {},
   "outputs": [
    {
     "data": {
      "text/plain": [
       "LogisticRegression(C=2.5, random_state=5, solver='liblinear', tol=0.04)"
      ]
     },
     "execution_count": 42,
     "metadata": {},
     "output_type": "execute_result"
    }
   ],
   "source": [
    "log_clf.fit(count_train,y_train)"
   ]
  },
  {
   "cell_type": "code",
   "execution_count": 43,
   "id": "e114497a",
   "metadata": {},
   "outputs": [
    {
     "data": {
      "text/plain": [
       "0.9987537646692284"
      ]
     },
     "execution_count": 43,
     "metadata": {},
     "output_type": "execute_result"
    }
   ],
   "source": [
    "log_clf.score(count_train,y_train)"
   ]
  },
  {
   "cell_type": "code",
   "execution_count": 44,
   "id": "c9a6c411",
   "metadata": {},
   "outputs": [],
   "source": [
    "from sklearn.metrics import classification_report"
   ]
  },
  {
   "cell_type": "code",
   "execution_count": 45,
   "id": "a0d8eace",
   "metadata": {},
   "outputs": [],
   "source": [
    "y_preds=log_clf.predict(count_train)"
   ]
  },
  {
   "cell_type": "code",
   "execution_count": 46,
   "id": "eb7822c1",
   "metadata": {},
   "outputs": [
    {
     "name": "stdout",
     "output_type": "stream",
     "text": [
      "              precision    recall  f1-score   support\n",
      "\n",
      "           0       1.00      1.00      1.00     17485\n",
      "           1       1.00      0.99      0.99      1773\n",
      "\n",
      "    accuracy                           1.00     19258\n",
      "   macro avg       1.00      0.99      1.00     19258\n",
      "weighted avg       1.00      1.00      1.00     19258\n",
      "\n"
     ]
    }
   ],
   "source": [
    "print(classification_report(y_train,y_preds))"
   ]
  },
  {
   "cell_type": "markdown",
   "id": "dfcb1f7f",
   "metadata": {},
   "source": [
    "# Using Model to predict on Test Data"
   ]
  },
  {
   "cell_type": "code",
   "execution_count": 47,
   "id": "519582d0",
   "metadata": {},
   "outputs": [],
   "source": [
    "y_preds_test=log_clf.predict(count_test)"
   ]
  },
  {
   "cell_type": "code",
   "execution_count": 48,
   "id": "14265467",
   "metadata": {},
   "outputs": [
    {
     "data": {
      "text/plain": [
       "0.9180685358255452"
      ]
     },
     "execution_count": 48,
     "metadata": {},
     "output_type": "execute_result"
    }
   ],
   "source": [
    "accuracy_score(y_test,y_preds_test)"
   ]
  },
  {
   "cell_type": "code",
   "execution_count": 49,
   "id": "eb0d762e",
   "metadata": {},
   "outputs": [
    {
     "name": "stdout",
     "output_type": "stream",
     "text": [
      "              precision    recall  f1-score   support\n",
      "\n",
      "           0       0.93      0.99      0.96      5816\n",
      "           1       0.68      0.25      0.36       604\n",
      "\n",
      "    accuracy                           0.92      6420\n",
      "   macro avg       0.80      0.62      0.66      6420\n",
      "weighted avg       0.90      0.92      0.90      6420\n",
      "\n"
     ]
    }
   ],
   "source": [
    "print(classification_report(y_test,y_preds_test))"
   ]
  },
  {
   "cell_type": "code",
   "execution_count": 50,
   "id": "8ddd17d7",
   "metadata": {},
   "outputs": [
    {
     "data": {
      "text/plain": [
       "array([[5746,   70],\n",
       "       [ 456,  148]], dtype=int64)"
      ]
     },
     "execution_count": 50,
     "metadata": {},
     "output_type": "execute_result"
    }
   ],
   "source": [
    "confusion_matrix(y_test,y_preds_test)"
   ]
  }
 ],
 "metadata": {
  "kernelspec": {
   "display_name": "Python 3 (ipykernel)",
   "language": "python",
   "name": "python3"
  },
  "language_info": {
   "codemirror_mode": {
    "name": "ipython",
    "version": 3
   },
   "file_extension": ".py",
   "mimetype": "text/x-python",
   "name": "python",
   "nbconvert_exporter": "python",
   "pygments_lexer": "ipython3",
   "version": "3.9.6"
  }
 },
 "nbformat": 4,
 "nbformat_minor": 5
}
